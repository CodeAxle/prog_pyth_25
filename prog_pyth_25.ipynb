{
 "cells": [
  {
   "cell_type": "markdown",
   "id": "8f126e6f",
   "metadata": {},
   "source": [
    "# 1."
   ]
  },
  {
   "cell_type": "code",
   "execution_count": 1,
   "id": "4c4c622a",
   "metadata": {},
   "outputs": [
    {
     "name": "stdout",
     "output_type": "stream",
     "text": [
      "2\n",
      "3\n",
      "0\n"
     ]
    }
   ],
   "source": [
    "def equal(a, b, c):\n",
    "    if a == b == c:  # All three integers are equal\n",
    "        return 3\n",
    "    elif a == b or b == c or a == c:  # Two integers are equal\n",
    "        return 2\n",
    "    else:\n",
    "        return 0  # No integers are equal\n",
    "\n",
    "# Example:\n",
    "print(equal(3, 4, 3))  \n",
    "print(equal(1, 1, 1))  \n",
    "print(equal(3, 4, 1))  "
   ]
  },
  {
   "cell_type": "markdown",
   "id": "84edd2b4",
   "metadata": {},
   "source": [
    "# 2."
   ]
  },
  {
   "cell_type": "code",
   "execution_count": 2,
   "id": "be204cf7",
   "metadata": {},
   "outputs": [
    {
     "name": "stdout",
     "output_type": "stream",
     "text": [
      "[('B', 2), ('C', 3), ('D', 1)]\n",
      "[('dislikes', 3), ('followers', 10), ('likes', 2)]\n"
     ]
    }
   ],
   "source": [
    "def dict_to_list(dict):\n",
    "\n",
    "    return sorted(dict.items())\n",
    "\n",
    "# Example:\n",
    "my_dict = {\"D\": 1, \"B\": 2, \"C\": 3}\n",
    "list_of_tuples = dict_to_list(my_dict)\n",
    "print(list_of_tuples)  # Output: [('B', 2), ('C', 3), ('D', 1)]\n",
    "\n",
    "another_dict = {\"likes\": 2, \"dislikes\": 3, \"followers\": 10}\n",
    "list_of_tuples = dict_to_list(another_dict)\n",
    "print(list_of_tuples)  # Output: [('dislikes', 3), ('followers', 10), ('likes', 2)]\n"
   ]
  },
  {
   "cell_type": "markdown",
   "id": "39bacac8",
   "metadata": {},
   "source": [
    "# 3."
   ]
  },
  {
   "cell_type": "code",
   "execution_count": 3,
   "id": "0c182fff",
   "metadata": {},
   "outputs": [
    {
     "name": "stdout",
     "output_type": "stream",
     "text": [
      "{'p': 'P', 's': 'S'}\n",
      "{'a': 'A', 'b': 'B', 'c': 'C'}\n"
     ]
    }
   ],
   "source": [
    "def mapping(chars):\n",
    "    return {char: char.upper() for char in chars}\n",
    "\n",
    "# Example:\n",
    "my_letters = [\"p\", \"s\"]\n",
    "letter_map = mapping(my_letters)\n",
    "print(letter_map)  # Output: {'p': 'P', 's': 'S'}\n",
    "\n",
    "another_list = [\"a\", \"b\", \"c\"]\n",
    "letter_map = mapping(another_list)\n",
    "print(letter_map)  # Output: {'a': 'A', 'b': 'B', 'c': 'C'}"
   ]
  },
  {
   "cell_type": "markdown",
   "id": "d11a4d5f",
   "metadata": {},
   "source": [
    "# 4."
   ]
  },
  {
   "cell_type": "code",
   "execution_count": 4,
   "id": "0c9246af",
   "metadata": {},
   "outputs": [
    {
     "name": "stdout",
     "output_type": "stream",
     "text": [
      "upplus und bununus\n",
      "chooso cossorolo\n",
      "steffed jelepene peppers\n"
     ]
    }
   ],
   "source": [
    "def vow_replace(text, vowel):\n",
    "\n",
    "    vowels = \"aeiou\"\n",
    "    new_text = \"\"\n",
    "    for char in text:\n",
    "        if char.lower() in vowels:\n",
    "            new_text += vowel\n",
    "        else:\n",
    "            new_text += char\n",
    "    return new_text\n",
    "\n",
    "# Example:\n",
    "text = \"apples and bananas\"\n",
    "replaced_text = vow_replace(text, \"u\")\n",
    "print(replaced_text)  # Output: \"upplus und bununus\"\n",
    "\n",
    "another_text = \"cheese casserole\"\n",
    "replaced_text = vow_replace(another_text, \"o\")\n",
    "print(replaced_text)  # Output: \"chooso cossorolo\"\n",
    "\n",
    "spicy_text = \"stuffed jalapeno poppers\"\n",
    "replaced_text = vow_replace(spicy_text, \"e\")\n",
    "print(replaced_text)  # Output: \"steffed jelepene peppers\"\n"
   ]
  },
  {
   "cell_type": "markdown",
   "id": "aa85a475",
   "metadata": {},
   "source": [
    "# 5."
   ]
  },
  {
   "cell_type": "code",
   "execution_count": 5,
   "id": "6ae78f8b",
   "metadata": {},
   "outputs": [
    {
     "name": "stdout",
     "output_type": "stream",
     "text": [
      "To Be oR NoT To Be!\n",
      "THE LITTLE MERMAID\n"
     ]
    }
   ],
   "source": [
    "def ascii_capitalize(text):\n",
    "\n",
    "    new_text = \"\"\n",
    "    for char in text:\n",
    "        if char.isalpha():  # Check if character is alphabetic\n",
    "            new_text += chr(ord(char.upper()) if ord(char) % 2 == 0 else ord(char))\n",
    "        else:\n",
    "            new_text += char\n",
    "    return new_text\n",
    "\n",
    "# Example usage\n",
    "text = \"to be or not to be!\"\n",
    "capitalized_text = ascii_capitalize(text)\n",
    "print(capitalized_text)  # Output: \"To Be oR NoT To Be!\"\n",
    "\n",
    "another_text = \"THE LITTLE MERMAID\"\n",
    "capitalized_text = ascii_capitalize(another_text)\n",
    "print(capitalized_text)  # Output: \"THe LiTTLe meRmaiD\"\n"
   ]
  },
  {
   "cell_type": "code",
   "execution_count": null,
   "id": "979c4f9b",
   "metadata": {},
   "outputs": [],
   "source": []
  }
 ],
 "metadata": {
  "kernelspec": {
   "display_name": "Python 3 (ipykernel)",
   "language": "python",
   "name": "python3"
  },
  "language_info": {
   "codemirror_mode": {
    "name": "ipython",
    "version": 3
   },
   "file_extension": ".py",
   "mimetype": "text/x-python",
   "name": "python",
   "nbconvert_exporter": "python",
   "pygments_lexer": "ipython3",
   "version": "3.11.5"
  }
 },
 "nbformat": 4,
 "nbformat_minor": 5
}
